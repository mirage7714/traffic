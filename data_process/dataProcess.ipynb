{
 "cells": [
  {
   "cell_type": "code",
   "execution_count": 13,
   "metadata": {},
   "outputs": [],
   "source": [
    "import xml.etree.cElementTree as ET\n",
    "import sys\n",
    "import time"
   ]
  },
  {
   "cell_type": "markdown",
   "metadata": {},
   "source": [
    "檔案下載的格式為xml，因此需要針對xml內容進行解析\n",
    "這邊使用檔案紀錄的時間(yyyymmdd)來當作檔名，一天建立一個檔案"
   ]
  },
  {
   "cell_type": "code",
   "execution_count": 9,
   "metadata": {},
   "outputs": [],
   "source": [
    "file = 'GetVD'\n",
    "tree = ET.ElementTree(file = file)\n",
    "record_time = ''\n",
    "t = ''\n",
    "for ele in tree.iter(tag = '{http://www.iii.org.tw/dax/vd}ExchangeTime'):\n",
    "    record_time = ele.text.replace('T',' ')\n",
    "    t = ele.text.split('T')[0].replace('/','')\n",
    "filename = 'taipei_roadspeed_'+t+'.txt'"
   ]
  },
  {
   "cell_type": "code",
   "execution_count": 40,
   "metadata": {},
   "outputs": [],
   "source": [
    "with open(filename, 'a+',encoding='utf8') as record:\n",
    "    for tags in tree.iter(tag = '{http://www.iii.org.tw/dax/vd}SectionData'):\n",
    "        children = tags.getchildren()\n",
    "        data = record_time\n",
    "        for child in children:\n",
    "            data += ','+child.text\n",
    "        record.write(data+'\\n')\n",
    "    record.flush()"
   ]
  },
  {
   "cell_type": "code",
   "execution_count": null,
   "metadata": {
    "collapsed": true
   },
   "outputs": [],
   "source": []
  }
 ],
 "metadata": {
  "kernelspec": {
   "display_name": "Python 3",
   "language": "python",
   "name": "python3"
  },
  "language_info": {
   "codemirror_mode": {
    "name": "ipython",
    "version": 3
   },
   "file_extension": ".py",
   "mimetype": "text/x-python",
   "name": "python",
   "nbconvert_exporter": "python",
   "pygments_lexer": "ipython3",
   "version": "3.6.3"
  }
 },
 "nbformat": 4,
 "nbformat_minor": 2
}
